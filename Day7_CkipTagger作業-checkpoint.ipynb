{
 "cells": [
  {
   "cell_type": "markdown",
   "metadata": {},
   "source": [
    "### 作業目標: 使用Jieba進行各項的斷詞操作"
   ]
  },
  {
   "cell_type": "markdown",
   "metadata": {},
   "source": [
    "### Import 所需 libraries"
   ]
  },
  {
   "source": [
    "#導入所需libraries\n",
    "#請import 1.可用於下載權重的library 2.建構自定義字典的library 3.斷詞, 詞性標注,與命名實體辨識libries\n",
    "###<your code>###\n",
    "from ckiptagger import data_utils , WS, POS, NER\n",
    "\n",
    "#請對下列文本字串進行斷詞, 詞性標注, 命名實體識別\n",
    "\n",
    "sentence_list = [\n",
    "    \"傅達仁今將執行安樂死，卻突然爆出自己20年前遭緯來體育台封殺，他不懂自己哪裡得罪到電視台。\",\n",
    "    \"美國參議院針對今天總統布什所提名的勞工部長趙小蘭展開認可聽證會，預料她將會很順利通過參議院支持，成為該國有史以來第一位的華裔女性內閣成員。\",\n",
    "    \"\",\n",
    "    \"土地公有政策?？還是土地婆有政策。.\",\n",
    "    \"… 你確定嗎… 不要再騙了……\",\n",
    "    \"最多容納59,000個人,或5.9萬人,再多就不行了.這是環評的結論.\",\n",
    "    \"科長說:1,坪數對人數為1:3。2,可以再增加。\",\n",
    "]"
   ],
   "cell_type": "code",
   "outputs": [
    {
     "output_type": "stream",
     "name": "stderr",
     "text": "C:\\Users\\user\\AppData\\Roaming\\Python\\Python36\\site-packages\\tensorflow\\python\\framework\\dtypes.py:516: FutureWarning: Passing (type, 1) or '1type' as a synonym of type is deprecated; in a future version of numpy, it will be understood as (type, (1,)) / '(1,)type'.\n  _np_qint8 = np.dtype([(\"qint8\", np.int8, 1)])\nC:\\Users\\user\\AppData\\Roaming\\Python\\Python36\\site-packages\\tensorflow\\python\\framework\\dtypes.py:517: FutureWarning: Passing (type, 1) or '1type' as a synonym of type is deprecated; in a future version of numpy, it will be understood as (type, (1,)) / '(1,)type'.\n  _np_quint8 = np.dtype([(\"quint8\", np.uint8, 1)])\nC:\\Users\\user\\AppData\\Roaming\\Python\\Python36\\site-packages\\tensorflow\\python\\framework\\dtypes.py:518: FutureWarning: Passing (type, 1) or '1type' as a synonym of type is deprecated; in a future version of numpy, it will be understood as (type, (1,)) / '(1,)type'.\n  _np_qint16 = np.dtype([(\"qint16\", np.int16, 1)])\nC:\\Users\\user\\AppData\\Roaming\\Python\\Python36\\site-packages\\tensorflow\\python\\framework\\dtypes.py:519: FutureWarning: Passing (type, 1) or '1type' as a synonym of type is deprecated; in a future version of numpy, it will be understood as (type, (1,)) / '(1,)type'.\n  _np_quint16 = np.dtype([(\"quint16\", np.uint16, 1)])\nC:\\Users\\user\\AppData\\Roaming\\Python\\Python36\\site-packages\\tensorflow\\python\\framework\\dtypes.py:520: FutureWarning: Passing (type, 1) or '1type' as a synonym of type is deprecated; in a future version of numpy, it will be understood as (type, (1,)) / '(1,)type'.\n  _np_qint32 = np.dtype([(\"qint32\", np.int32, 1)])\nC:\\Users\\user\\AppData\\Roaming\\Python\\Python36\\site-packages\\tensorflow\\python\\framework\\dtypes.py:525: FutureWarning: Passing (type, 1) or '1type' as a synonym of type is deprecated; in a future version of numpy, it will be understood as (type, (1,)) / '(1,)type'.\n  np_resource = np.dtype([(\"resource\", np.ubyte, 1)])\nC:\\Users\\user\\AppData\\Roaming\\Python\\Python36\\site-packages\\tensorboard\\compat\\tensorflow_stub\\dtypes.py:541: FutureWarning: Passing (type, 1) or '1type' as a synonym of type is deprecated; in a future version of numpy, it will be understood as (type, (1,)) / '(1,)type'.\n  _np_qint8 = np.dtype([(\"qint8\", np.int8, 1)])\nC:\\Users\\user\\AppData\\Roaming\\Python\\Python36\\site-packages\\tensorboard\\compat\\tensorflow_stub\\dtypes.py:542: FutureWarning: Passing (type, 1) or '1type' as a synonym of type is deprecated; in a future version of numpy, it will be understood as (type, (1,)) / '(1,)type'.\n  _np_quint8 = np.dtype([(\"quint8\", np.uint8, 1)])\nC:\\Users\\user\\AppData\\Roaming\\Python\\Python36\\site-packages\\tensorboard\\compat\\tensorflow_stub\\dtypes.py:543: FutureWarning: Passing (type, 1) or '1type' as a synonym of type is deprecated; in a future version of numpy, it will be understood as (type, (1,)) / '(1,)type'.\n  _np_qint16 = np.dtype([(\"qint16\", np.int16, 1)])\nC:\\Users\\user\\AppData\\Roaming\\Python\\Python36\\site-packages\\tensorboard\\compat\\tensorflow_stub\\dtypes.py:544: FutureWarning: Passing (type, 1) or '1type' as a synonym of type is deprecated; in a future version of numpy, it will be understood as (type, (1,)) / '(1,)type'.\n  _np_quint16 = np.dtype([(\"quint16\", np.uint16, 1)])\nC:\\Users\\user\\AppData\\Roaming\\Python\\Python36\\site-packages\\tensorboard\\compat\\tensorflow_stub\\dtypes.py:545: FutureWarning: Passing (type, 1) or '1type' as a synonym of type is deprecated; in a future version of numpy, it will be understood as (type, (1,)) / '(1,)type'.\n  _np_qint32 = np.dtype([(\"qint32\", np.int32, 1)])\nC:\\Users\\user\\AppData\\Roaming\\Python\\Python36\\site-packages\\tensorboard\\compat\\tensorflow_stub\\dtypes.py:550: FutureWarning: Passing (type, 1) or '1type' as a synonym of type is deprecated; in a future version of numpy, it will be understood as (type, (1,)) / '(1,)type'.\n  np_resource = np.dtype([(\"resource\", np.ubyte, 1)])\n"
    }
   ],
   "metadata": {},
   "execution_count": 1
  },
  {
   "cell_type": "markdown",
   "metadata": {},
   "source": [
    "### 進行斷詞, 詞性標注, 與命名實體識別"
   ]
  },
  {
   "source": [
    "#創建實例\n",
    "###<your code>###\n",
    "ws =  WS(\"./data/\")\n",
    "#斷詞\n",
    "###<your code>###\n",
    "word_s = ws(\n",
    "    sentence_list, \n",
    "    sentence_segmentation=True, \n",
    "    segment_delimiter_set={'，','。','！','？'}\n",
    "    )\n",
    "print(f'斷詞輸出: {word_s}')\n",
    "print('\\n')\n",
    "\n",
    "#詞性標注\n",
    "###<your code>###\n",
    "pos = POS(\"./data\")\n",
    "word_p = pos(sentence_list)\n",
    "print(f'詞性標注輸出: {word_p}')\n",
    "print('\\n')\n",
    "\n",
    "#命名實體識別\n",
    "###<your code>###\n",
    "ner = NER(\"./data\")\n",
    "\n",
    "word_n = ner(sentence_list, word_p)\n",
    "print(word_n)\n",
    "print(f'命名實體識別輸出: {word_n}')"
   ],
   "cell_type": "code",
   "outputs": [
    {
     "output_type": "stream",
     "name": "stdout",
     "text": "WARNING: Entity <bound method LSTMCell.call of <tensorflow.python.ops.rnn_cell_impl.LSTMCell object at 0x0000012D2B20B630>> could not be transformed and will be executed as-is. Please report this to the AutgoGraph team. When filing the bug, set the verbosity to 10 (on Linux, `export AUTOGRAPH_VERBOSITY=10`) and attach the full output. Cause: converting <bound method LSTMCell.call of <tensorflow.python.ops.rnn_cell_impl.LSTMCell object at 0x0000012D2B20B630>>: AttributeError: module 'gast' has no attribute 'Num'\nWARNING: Entity <bound method LSTMCell.call of <tensorflow.python.ops.rnn_cell_impl.LSTMCell object at 0x0000012D37212550>> could not be transformed and will be executed as-is. Please report this to the AutgoGraph team. When filing the bug, set the verbosity to 10 (on Linux, `export AUTOGRAPH_VERBOSITY=10`) and attach the full output. Cause: converting <bound method LSTMCell.call of <tensorflow.python.ops.rnn_cell_impl.LSTMCell object at 0x0000012D37212550>>: AttributeError: module 'gast' has no attribute 'Num'\nWARNING: Entity <bound method LSTMCell.call of <tensorflow.python.ops.rnn_cell_impl.LSTMCell object at 0x0000012D37212E80>> could not be transformed and will be executed as-is. Please report this to the AutgoGraph team. When filing the bug, set the verbosity to 10 (on Linux, `export AUTOGRAPH_VERBOSITY=10`) and attach the full output. Cause: converting <bound method LSTMCell.call of <tensorflow.python.ops.rnn_cell_impl.LSTMCell object at 0x0000012D37212E80>>: AttributeError: module 'gast' has no attribute 'Num'\nWARNING: Entity <bound method LSTMCell.call of <tensorflow.python.ops.rnn_cell_impl.LSTMCell object at 0x0000012D3722E9B0>> could not be transformed and will be executed as-is. Please report this to the AutgoGraph team. When filing the bug, set the verbosity to 10 (on Linux, `export AUTOGRAPH_VERBOSITY=10`) and attach the full output. Cause: converting <bound method LSTMCell.call of <tensorflow.python.ops.rnn_cell_impl.LSTMCell object at 0x0000012D3722E9B0>>: AttributeError: module 'gast' has no attribute 'Num'\nException ignored in: <bound method WS.__del__ of <ckiptagger.api.WS object at 0x0000012D24881EF0>>\nTraceback (most recent call last):\n  File \"C:\\Program Files\\Python36\\lib\\site-packages\\ckiptagger\\api.py\", line 65, in __del__\n    self.model.sess.close()\nAttributeError: 'WS' object has no attribute 'model'\nWARNING: Entity <bound method Dense.call of <tensorflow.python.layers.core.Dense object at 0x0000012D35FB6748>> could not be transformed and will be executed as-is. Please report this to the AutgoGraph team. When filing the bug, set the verbosity to 10 (on Linux, `export AUTOGRAPH_VERBOSITY=10`) and attach the full output. Cause: converting <bound method Dense.call of <tensorflow.python.layers.core.Dense object at 0x0000012D35FB6748>>: AssertionError: Bad argument number for Name: 3, expecting 4\n斷詞輸出: [['傅達仁', '今', '將', '執行', '安樂死', '，', '卻', '突然', '爆出', '自己', '20', '年', '前', '遭', '緯來', '體育台', '封殺', '，', '他', '不', '懂', '自己', '哪裡', '得罪到', '電視台', '。'], ['美國', '參議院', '針對', '今天', '總統', '布什', '所', '提名', '的', '勞工部長', '趙小蘭', '展開', '認可', '聽證會', '，', '預料', '她', '將', '會', '很', '順利', '通過', '參議院', '支持', '，', '成為', '該', '國', '有史以來', '第一', '位', '的', '華裔', '女性', '內閣', '成員', '。'], [], ['土地公', '有', '政策', '?', '？', '還是', '土地', '婆', '有', '政策', '。', '.'], ['…', ' ', '你', '確定', '嗎', '…', ' ', '不要', '再', '騙', '了', '…', '…'], ['最多', '容納', '59', ',', '000', '個', '人', ',', '或', '5.9萬', '人', ',', '再', '多', '就', '不行', '了', '.', '這', '是', '環評', '的', '結論', '.'], ['科長', '說', ':1', ',', '坪數', '對', '人數', '為', '1:3', '。', '2', ',', '可以', '再', '增加', '。']]\n\n\nWARNING: Entity <bound method LSTMCell.call of <tensorflow.python.ops.rnn_cell_impl.LSTMCell object at 0x0000012D80036860>> could not be transformed and will be executed as-is. Please report this to the AutgoGraph team. When filing the bug, set the verbosity to 10 (on Linux, `export AUTOGRAPH_VERBOSITY=10`) and attach the full output. Cause: converting <bound method LSTMCell.call of <tensorflow.python.ops.rnn_cell_impl.LSTMCell object at 0x0000012D80036860>>: AttributeError: module 'gast' has no attribute 'Num'\nWARNING: Entity <bound method LSTMCell.call of <tensorflow.python.ops.rnn_cell_impl.LSTMCell object at 0x0000012D800369B0>> could not be transformed and will be executed as-is. Please report this to the AutgoGraph team. When filing the bug, set the verbosity to 10 (on Linux, `export AUTOGRAPH_VERBOSITY=10`) and attach the full output. Cause: converting <bound method LSTMCell.call of <tensorflow.python.ops.rnn_cell_impl.LSTMCell object at 0x0000012D800369B0>>: AttributeError: module 'gast' has no attribute 'Num'\nWARNING: Entity <bound method LSTMCell.call of <tensorflow.python.ops.rnn_cell_impl.LSTMCell object at 0x0000012D800533C8>> could not be transformed and will be executed as-is. Please report this to the AutgoGraph team. When filing the bug, set the verbosity to 10 (on Linux, `export AUTOGRAPH_VERBOSITY=10`) and attach the full output. Cause: converting <bound method LSTMCell.call of <tensorflow.python.ops.rnn_cell_impl.LSTMCell object at 0x0000012D800533C8>>: AttributeError: module 'gast' has no attribute 'Num'\nWARNING: Entity <bound method LSTMCell.call of <tensorflow.python.ops.rnn_cell_impl.LSTMCell object at 0x0000012D38EAED30>> could not be transformed and will be executed as-is. Please report this to the AutgoGraph team. When filing the bug, set the verbosity to 10 (on Linux, `export AUTOGRAPH_VERBOSITY=10`) and attach the full output. Cause: converting <bound method LSTMCell.call of <tensorflow.python.ops.rnn_cell_impl.LSTMCell object at 0x0000012D38EAED30>>: AttributeError: module 'gast' has no attribute 'Num'\nWARNING: Entity <bound method Dense.call of <tensorflow.python.layers.core.Dense object at 0x0000012D43DF0CF8>> could not be transformed and will be executed as-is. Please report this to the AutgoGraph team. When filing the bug, set the verbosity to 10 (on Linux, `export AUTOGRAPH_VERBOSITY=10`) and attach the full output. Cause: converting <bound method Dense.call of <tensorflow.python.layers.core.Dense object at 0x0000012D43DF0CF8>>: AssertionError: Bad argument number for Name: 3, expecting 4\n詞性標注輸出: [['Nb', 'VJ', 'Na', 'Nd', 'D', 'VC', 'VA', 'D', 'VH', 'VH', 'COMMACATEGORY', 'D', 'D', 'VH', 'VH', 'VC', 'P', 'Nh', 'Neu', 'Neu', 'Nf', 'Ng', 'P', 'Na', 'VA', 'Na', 'VC', 'Nc', 'VC', 'VC', 'COMMACATEGORY', 'Nh', 'D', 'VK', 'P', 'Nh', 'Nep', 'Ncd', 'VJ', 'Na', 'P', 'Na', 'P', 'Nc', 'PERIODCATEGORY'], ['Nc', 'Nc', 'VC', 'VE', 'Nc', 'Na', 'P', 'Nd', 'Nf', 'D', 'VHC', 'Na', 'Nep', 'D', 'VE', 'Na', 'DE', 'Na', 'Na', 'Nc', 'VH', 'Nb', 'VH', 'Na', 'Na', 'VC', 'VC', 'D', 'VE', 'Na', 'D', 'COMMACATEGORY', 'D', 'VE', 'Nh', 'D', 'D', 'Dfa', 'VH', 'Na', 'VC', 'Di', 'VC', 'VE', 'Nc', 'VC', 'VC', 'COMMACATEGORY', 'VG', 'P', 'Nes', 'Nc', 'V_2', 'Na', 'P', 'VA', 'Neu', 'Neu', 'Nf', 'DE', 'Nc', 'Na', 'Na', 'Na', 'Ncd', 'D', 'VG', 'Na', 'PERIODCATEGORY'], [], ['Na', 'Na', 'Na', 'V_2', 'Na', 'Na', 'QUESTIONCATEGORY', 'QUESTIONCATEGORY', 'D', 'SHI', 'Na', 'DE', 'Na', 'V_2', 'Na', 'Na', 'PERIODCATEGORY', 'PERIODCATEGORY'], ['ETCCATEGORY', 'WHITESPACE', 'Nh', 'D', 'VC', 'T', 'ETCCATEGORY', 'WHITESPACE', 'D', 'D', 'D', 'VC', 'Di', 'ETCCATEGORY', 'ETCCATEGORY'], ['Dfa', 'VH', 'VJ', 'VC', 'Neu', 'Neu', 'COMMACATEGORY', 'Neu', 'Neu', 'Neu', 'Nf', 'Na', 'COMMACATEGORY', 'Caa', 'Neu', 'PERIODCATEGORY', 'Neu', 'Neu', 'Na', 'COMMACATEGORY', 'D', 'VH', 'D', 'D', 'VH', 'T', 'PERIODCATEGORY', 'Nep', 'SHI', 'VC', 'Na', 'DE', 'Na', 'Na', 'PERIODCATEGORY'], ['Na', 'VH', 'VE', 'COLONCATEGORY', 'Neu', 'COMMACATEGORY', 'Nf', 'Na', 'Nf', 'Na', 'Na', 'VG', 'Neu', 'COLONCATEGORY', 'Neu', 'PERIODCATEGORY', 'Neu', 'COMMACATEGORY', 'D', 'P', 'D', 'VJ', 'VC', 'PERIODCATEGORY']]\n\n\nWARNING: Entity <bound method LSTMCell.call of <tensorflow.python.ops.rnn_cell_impl.LSTMCell object at 0x0000012D8DEDDE48>> could not be transformed and will be executed as-is. Please report this to the AutgoGraph team. When filing the bug, set the verbosity to 10 (on Linux, `export AUTOGRAPH_VERBOSITY=10`) and attach the full output. Cause: converting <bound method LSTMCell.call of <tensorflow.python.ops.rnn_cell_impl.LSTMCell object at 0x0000012D8DEDDE48>>: AttributeError: module 'gast' has no attribute 'Num'\nWARNING: Entity <bound method LSTMCell.call of <tensorflow.python.ops.rnn_cell_impl.LSTMCell object at 0x0000012DA327E160>> could not be transformed and will be executed as-is. Please report this to the AutgoGraph team. When filing the bug, set the verbosity to 10 (on Linux, `export AUTOGRAPH_VERBOSITY=10`) and attach the full output. Cause: converting <bound method LSTMCell.call of <tensorflow.python.ops.rnn_cell_impl.LSTMCell object at 0x0000012DA327E160>>: AttributeError: module 'gast' has no attribute 'Num'\nWARNING: Entity <bound method LSTMCell.call of <tensorflow.python.ops.rnn_cell_impl.LSTMCell object at 0x0000012DA327EDA0>> could not be transformed and will be executed as-is. Please report this to the AutgoGraph team. When filing the bug, set the verbosity to 10 (on Linux, `export AUTOGRAPH_VERBOSITY=10`) and attach the full output. Cause: converting <bound method LSTMCell.call of <tensorflow.python.ops.rnn_cell_impl.LSTMCell object at 0x0000012DA327EDA0>>: AttributeError: module 'gast' has no attribute 'Num'\nWARNING: Entity <bound method LSTMCell.call of <tensorflow.python.ops.rnn_cell_impl.LSTMCell object at 0x0000012DA32A48D0>> could not be transformed and will be executed as-is. Please report this to the AutgoGraph team. When filing the bug, set the verbosity to 10 (on Linux, `export AUTOGRAPH_VERBOSITY=10`) and attach the full output. Cause: converting <bound method LSTMCell.call of <tensorflow.python.ops.rnn_cell_impl.LSTMCell object at 0x0000012DA32A48D0>>: AttributeError: module 'gast' has no attribute 'Num'\nWARNING: Entity <bound method Dense.call of <tensorflow.python.layers.core.Dense object at 0x0000012DA32075F8>> could not be transformed and will be executed as-is. Please report this to the AutgoGraph team. When filing the bug, set the verbosity to 10 (on Linux, `export AUTOGRAPH_VERBOSITY=10`) and attach the full output. Cause: converting <bound method Dense.call of <tensorflow.python.layers.core.Dense object at 0x0000012DA32075F8>>: AssertionError: Bad argument number for Name: 3, expecting 4\n[{(0, 3, 'PERSON', '傅達仁'), (18, 22, 'DATE', '20年前')}, {(11, 13, 'PERSON', '布什'), (0, 5, 'ORG', '美國參議院'), (56, 58, 'ORDINAL', '第一'), (21, 22, 'PERSON', '趙'), (7, 9, 'DATE', '今天'), (42, 45, 'ORG', '參議院'), (60, 62, 'NORP', '華裔')}, set(), set(), set(), {(4, 6, 'CARDINAL', '59'), (7, 10, 'CARDINAL', '000'), (14, 18, 'CARDINAL', '5.9萬')}, {(16, 17, 'CARDINAL', '2'), (14, 15, 'CARDINAL', '3'), (0, 2, 'PERSON', '科長'), (12, 13, 'CARDINAL', '1'), (4, 5, 'CARDINAL', '1')}]\n命名實體識別輸出: [{(0, 3, 'PERSON', '傅達仁'), (18, 22, 'DATE', '20年前')}, {(11, 13, 'PERSON', '布什'), (0, 5, 'ORG', '美國參議院'), (56, 58, 'ORDINAL', '第一'), (21, 22, 'PERSON', '趙'), (7, 9, 'DATE', '今天'), (42, 45, 'ORG', '參議院'), (60, 62, 'NORP', '華裔')}, set(), set(), set(), {(4, 6, 'CARDINAL', '59'), (7, 10, 'CARDINAL', '000'), (14, 18, 'CARDINAL', '5.9萬')}, {(16, 17, 'CARDINAL', '2'), (14, 15, 'CARDINAL', '3'), (0, 2, 'PERSON', '科長'), (12, 13, 'CARDINAL', '1'), (4, 5, 'CARDINAL', '1')}]\n"
    }
   ],
   "metadata": {},
   "execution_count": 4
  },
  {
   "source": [
    "#合併顯示輸出結果\n",
    "def combine_wandp(word_s, word_p):\n",
    "    assert len(word_s) == len(word_p)\n",
    "    result = ''\n",
    "    for j, word in enumerate(word_s):\n",
    "        result += '%s(%s)　'%(word, word_p[j])\n",
    "    return result\n",
    "    ###<your code>###\n",
    "        \n",
    "for i, sentence in enumerate(sentence_list):\n",
    "    print(f'Input sentence: \\n {sentence}')\n",
    "    print('\\n')\n",
    "    \n",
    "    print(f'Segmentation with PoS: \\n')\n",
    "    ###<your code>###\n",
    "    \n",
    "    print ('\\n')\n",
    "    print('Named Entity Recognition:')\n",
    "    for n in sorted(word_n[i]):\n",
    "        print (n)\n",
    "    print ('\\n')\n"
   ],
   "cell_type": "code",
   "outputs": [
    {
     "output_type": "stream",
     "name": "stdout",
     "text": "Input sentence: \n 傅達仁今將執行安樂死，卻突然爆出自己20年前遭緯來體育台封殺，他不懂自己哪裡得罪到電視台。\n\n\nSegmentation with PoS: \n\n\n\nNamed Entity Recognition:\n(0, 3, 'PERSON', '傅達仁')\n(18, 22, 'DATE', '20年前')\n\n\nInput sentence: \n 美國參議院針對今天總統布什所提名的勞工部長趙小蘭展開認可聽證會，預料她將會很順利通過參議院支持，成為該國有史以來第一位的華裔女性內閣成員。\n\n\nSegmentation with PoS: \n\n\n\nNamed Entity Recognition:\n(0, 5, 'ORG', '美國參議院')\n(7, 9, 'DATE', '今天')\n(11, 13, 'PERSON', '布什')\n(21, 22, 'PERSON', '趙')\n(42, 45, 'ORG', '參議院')\n(56, 58, 'ORDINAL', '第一')\n(60, 62, 'NORP', '華裔')\n\n\nInput sentence: \n \n\n\nSegmentation with PoS: \n\n\n\nNamed Entity Recognition:\n\n\nInput sentence: \n 土地公有政策?？還是土地婆有政策。.\n\n\nSegmentation with PoS: \n\n\n\nNamed Entity Recognition:\n\n\nInput sentence: \n … 你確定嗎… 不要再騙了……\n\n\nSegmentation with PoS: \n\n\n\nNamed Entity Recognition:\n\n\nInput sentence: \n 最多容納59,000個人,或5.9萬人,再多就不行了.這是環評的結論.\n\n\nSegmentation with PoS: \n\n\n\nNamed Entity Recognition:\n(4, 6, 'CARDINAL', '59')\n(7, 10, 'CARDINAL', '000')\n(14, 18, 'CARDINAL', '5.9萬')\n\n\nInput sentence: \n 科長說:1,坪數對人數為1:3。2,可以再增加。\n\n\nSegmentation with PoS: \n\n\n\nNamed Entity Recognition:\n(0, 2, 'PERSON', '科長')\n(4, 5, 'CARDINAL', '1')\n(12, 13, 'CARDINAL', '1')\n(14, 15, 'CARDINAL', '3')\n(16, 17, 'CARDINAL', '2')\n\n\n"
    }
   ],
   "metadata": {},
   "execution_count": 5
  },
  {
   "cell_type": "markdown",
   "metadata": {},
   "source": [
    "### 帶入自定義字典\n",
    "\n",
    "觀察上面的輸出發現，斷詞結果將`年前`斷為`年`、`前`, 請使用自定義字典使斷詞結果依然維持為`年前`"
   ]
  },
  {
   "source": [
    "#定義字典\n",
    "###<your code>###\n",
    "from ckiptagger import construct_dictionary\n",
    "\n",
    "#定義自定義字典\n",
    "#每個字對應的數值為其相對權重\n",
    "\n",
    "word_to_weight = {\n",
    "    \"年前\": 1\n",
    "}\n",
    "dictionary1 = construct_dictionary(word_to_weight)\n",
    "print(dictionary1)\n",
    "#帶入自定義字典進行斷詞\n",
    "\n",
    "\n",
    "input_traditional_str = [\"傅達仁今將執行安樂死，卻突然爆出自己20年前遭緯來體育台封殺，他不懂自己哪裡得罪到電視台。\"]\n",
    "\n",
    "###<your code>###\n",
    "\n",
    "word_sentence_list = ws(\n",
    "    input_traditional_str,\n",
    "    sentence_segmentation = True, # To consider delimiters\n",
    "    segment_delimiter_set = {\",\", \"。\", \":\", \"?\", \"!\", \";\"}, # This is the defualt set of delimiters\n",
    "    recommend_dictionary = dictionary1) # words in this dictionary are forced\n",
    "\n",
    "\n",
    "print(word_sentence_list)\n"
   ],
   "cell_type": "code",
   "outputs": [
    {
     "output_type": "stream",
     "name": "stdout",
     "text": "[(2, {'年前': 1.0})]\n[['傅達仁', '今', '將', '執行', '安樂死', '，', '卻', '突然', '爆出', '自己', '20', '年前', '遭', '緯來', '體育台', '封殺', '，', '他', '不', '懂', '自己', '哪裡', '得罪到', '電視台', '。']]\n"
    }
   ],
   "metadata": {},
   "execution_count": 8
  },
  {
   "cell_type": "code",
   "execution_count": null,
   "metadata": {},
   "outputs": [],
   "source": []
  }
 ],
 "metadata": {
  "kernelspec": {
   "display_name": "Python 3.6.8 64-bit",
   "language": "python",
   "name": "python36864bit502c5e0d95fe4ef0bfd711f23270c46e"
  },
  "language_info": {
   "codemirror_mode": {
    "name": "ipython",
    "version": 3
   },
   "file_extension": ".py",
   "mimetype": "text/x-python",
   "name": "python",
   "nbconvert_exporter": "python",
   "pygments_lexer": "ipython3",
   "version": "3.6.8-final"
  }
 },
 "nbformat": 4,
 "nbformat_minor": 2
}