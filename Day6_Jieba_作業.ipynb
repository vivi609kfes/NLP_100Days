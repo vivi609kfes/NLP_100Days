{
 "cells": [
  {
   "cell_type": "markdown",
   "metadata": {},
   "source": [
    "## 作業目標: 使用Jieba進行各項的斷詞操作\n",
    "\n",
    "這份作業我們會使用中文飯店評論資料集來作為斷詞練習。 [資料集:ChnSentiCorp_htl_all](https://github.com/SophonPlus/ChineseNlpCorpus)"
   ]
  },
  {
   "cell_type": "markdown",
   "metadata": {},
   "source": [
    "### 讀入文本資料"
   ]
  },
  {
   "source": [
    "import pandas as pd\n",
    "pd_corpus = pd.read_csv(\"ChnSentiCorp_htl_all.csv\")\n",
    "# hint: 可利用pandas讀取CSV\n",
    "###<your code>###\n",
    "\n",
    "pd_corpus.head(5)"
   ],
   "cell_type": "code",
   "outputs": [
    {
     "output_type": "execute_result",
     "data": {
      "text/plain": "   label                                             review\n0      1  距离川沙公路较近,但是公交指示不对,如果是\"蔡陆线\"的话,会非常麻烦.建议用别的路线.房间较...\n1      1                       商务大床房，房间很大，床有2M宽，整体感觉经济实惠不错!\n2      1         早餐太差，无论去多少人，那边也不加食品的。酒店应该重视一下这个问题了。房间本身很好。\n3      1  宾馆在小街道上，不大好找，但还好北京热心同胞很多~宾馆设施跟介绍的差不多，房间很小，确实挺小...\n4      1               CBD中心,周围没什么店铺,说5星有点勉强.不知道为什么卫生间没有电吹风",
      "text/html": "<div>\n<style scoped>\n    .dataframe tbody tr th:only-of-type {\n        vertical-align: middle;\n    }\n\n    .dataframe tbody tr th {\n        vertical-align: top;\n    }\n\n    .dataframe thead th {\n        text-align: right;\n    }\n</style>\n<table border=\"1\" class=\"dataframe\">\n  <thead>\n    <tr style=\"text-align: right;\">\n      <th></th>\n      <th>label</th>\n      <th>review</th>\n    </tr>\n  </thead>\n  <tbody>\n    <tr>\n      <th>0</th>\n      <td>1</td>\n      <td>距离川沙公路较近,但是公交指示不对,如果是\"蔡陆线\"的话,会非常麻烦.建议用别的路线.房间较...</td>\n    </tr>\n    <tr>\n      <th>1</th>\n      <td>1</td>\n      <td>商务大床房，房间很大，床有2M宽，整体感觉经济实惠不错!</td>\n    </tr>\n    <tr>\n      <th>2</th>\n      <td>1</td>\n      <td>早餐太差，无论去多少人，那边也不加食品的。酒店应该重视一下这个问题了。房间本身很好。</td>\n    </tr>\n    <tr>\n      <th>3</th>\n      <td>1</td>\n      <td>宾馆在小街道上，不大好找，但还好北京热心同胞很多~宾馆设施跟介绍的差不多，房间很小，确实挺小...</td>\n    </tr>\n    <tr>\n      <th>4</th>\n      <td>1</td>\n      <td>CBD中心,周围没什么店铺,说5星有点勉强.不知道为什么卫生间没有电吹风</td>\n    </tr>\n  </tbody>\n</table>\n</div>"
     },
     "metadata": {},
     "execution_count": 20
    }
   ],
   "metadata": {},
   "execution_count": 20
  },
  {
   "source": [
    "#確認所有留言,正評價(label=1)與負評價數量(label=0)\n",
    "###<your code>###\n",
    "\n",
    "#確認所有留言,正評價(label=1)與負評價數量(label=0)\n",
    "pd_positive = pd_corpus[pd_corpus['label'] == 1]\n",
    "pd_negative = pd_corpus[pd_corpus['label'] == 0]\n",
    "# pd_positive = []\n",
    "# pd_negative = []\n",
    "# print(pd_corpus.groupby(['label']).count())\n",
    "# for i in pd_corpus['label']:\n",
    "#     if i == 1:\n",
    "#         pd_positive.append(i)\n",
    "#     elif i == 0:\n",
    "#         pd_negative.append(i)\n",
    "print(f'Total: {len(pd_corpus)}, Positive: {len(pd_positive)}, Negative: {len(pd_negative)}')"
   ],
   "cell_type": "code",
   "outputs": [
    {
     "output_type": "stream",
     "name": "stdout",
     "text": "Total: 7766, Positive: 5322, Negative: 2444\n"
    }
   ],
   "metadata": {},
   "execution_count": 24
  },
  {
   "source": [
    "#移除缺失值\n",
    "pd_corpus.dropna(inplace=True)\n",
    "\n",
    "###<your code>###"
   ],
   "cell_type": "code",
   "outputs": [],
   "metadata": {},
   "execution_count": 25
  },
  {
   "cell_type": "markdown",
   "metadata": {},
   "source": [
    "### 建構結巴斷詞Function\n",
    "\n",
    "建構可將讀入的Pandas DataFrame的文本資料，外加一欄名為`cut`的review欄位斷詞結果"
   ]
  },
  {
   "source": [
    "import jieba"
   ],
   "cell_type": "code",
   "outputs": [],
   "metadata": {},
   "execution_count": 23
  },
  {
   "source": [
    "class JiebaCutingClass(object):\n",
    "    '''Class to use jeiba to parse corpus from dataframe and cut the corpus\n",
    "    \n",
    "    Parameters\n",
    "    -----------\n",
    "    key_to_cut: str\n",
    "        the dataframe key to parse the sentence for jieba cutting\n",
    "    dic: str\n",
    "        the dictionary to use for jieba, default is None (use default dictionary)\n",
    "    userdict: str\n",
    "        the user defined dictionary to use for jieba, default is None\n",
    "    '''\n",
    "    \n",
    "    def __init__(self, key_to_cut:str, dic:str=None, userdict:str=None):\n",
    "        \n",
    "        if dic is not None:\n",
    "            jieba.set_dictionary(dic)\n",
    "        \n",
    "        if userdict is not None:\n",
    "            jieba.load_userdict(userdict)\n",
    "        \n",
    "        self.key_to_cut = key_to_cut\n",
    "        \n",
    "        #將paddle 功能開啟\n",
    "        ###<your code>###\n",
    "        jieba.enable_paddle() #啟用paddle模式\n",
    "        \n",
    "    @staticmethod\n",
    "    def cut_single_sentence(sentence, use_paddle=False, use_full=False, use_search=False):\n",
    "        \n",
    "        if use_search:\n",
    "            # hint:使用收尋引擎模式進行斷詞\n",
    "            ###<your code>###\n",
    "            out = jieba.cut_for_search(sentence) \n",
    "        else:\n",
    "            # hint:非收尋引擎模式斷詞，請注意有精確模式、全模式與paddle模式\n",
    "            ###<your code>###\n",
    "            out = jieba.cut(sentence, use_paddle=use_paddle, cut_all=use_full)\n",
    "        \n",
    "        return out\n",
    "            \n",
    "    \n",
    "    def cut_corpus(self, corpus: pd.DataFrame, mode: str) -> pd.DataFrame:\n",
    "        '''Method to read and cut sentence from dataframe and append another column named cut\n",
    "        \n",
    "        Paremeters\n",
    "        --------------\n",
    "        corpus: pd.DataFrame\n",
    "            Input corpus in dataframe\n",
    "        mode: str\n",
    "            Jieba mode to be used\n",
    "        \n",
    "        Return\n",
    "        ----------------\n",
    "        out: pd.Dataframe\n",
    "            Output corpus in dataframe\n",
    "        '''\n",
    "        \n",
    "        # checking valid mode\n",
    "        if mode not in ['paddle', 'full', 'precise', 'search']:\n",
    "            raise TypeError(f'only support `paddle`, `full`, `precise`, and `search` mode, but get {mode}')\n",
    "            \n",
    "        # cut the corpus based on mode\n",
    "        # hint: 根據mode來呼叫相對應的斷詞method\n",
    "        if mode == 'paddle':\n",
    "            out = self._paddle_cut(corpus)\n",
    "        elif mode == 'full':\n",
    "            out = self._full_cut(corpus)\n",
    "        elif mode == 'precise':\n",
    "            out = self._precise_cut(corpus)\n",
    "        elif mode == 'search':\n",
    "            out = self._search_cut(corpus)\n",
    "\n",
    "        return out\n",
    "    \n",
    "    def _paddle_cut(self, corpus):\n",
    "        '''paddle mode\n",
    "        '''\n",
    "        #enable paddle\n",
    "        #hint:先啟用paddle mode\n",
    "        ### <your code> ###\n",
    "        jieba.enable_paddle()\n",
    "        \n",
    "        out = []\n",
    "        # hint:將讀進的文本進行斷詞，並將結果append回out的陣列中\n",
    "        for single_review in corpus[self.key_to_cut]:\n",
    "            ###<your code>###\n",
    "            out.append([word for word in JiebaCutingClass.cut_single_sentence(single_review, use_paddle=True)])\n",
    "        \n",
    "        corpus['cut'] = out\n",
    "        \n",
    "        return corpus\n",
    "    \n",
    "    def _full_cut(self, corpus):\n",
    "        '''full mode\n",
    "        '''\n",
    "        out = []\n",
    "        # hint:將讀進的文本進行斷詞，並將結果append回out的陣列中\n",
    "        for single_review in corpus[self.key_to_cut]:\n",
    "            ###<your code>###\n",
    "            out.append([word for word in JiebaCutingClass.cut_single_sentence(single_review, use_full=True)])\n",
    "        \n",
    "        corpus['cut'] = out\n",
    "        \n",
    "        return corpus\n",
    "    \n",
    "    def _precise_cut(self, corpus):\n",
    "        '''precise mode\n",
    "        '''\n",
    "        \n",
    "        out = []\n",
    "        # hint:將讀進的文本進行斷詞，並將結果append回out的陣列中\n",
    "        for single_review in corpus[self.key_to_cut]:\n",
    "            ###<your code>###\n",
    "            out.append([word for word in JiebaCutingClass.cut_single_sentence(single_review)])\n",
    "        corpus['cut'] = out\n",
    "        \n",
    "        return corpus\n",
    "    \n",
    "    def _search_cut(self, corpus):\n",
    "        '''search mode\n",
    "        '''\n",
    "        \n",
    "        out = []\n",
    "        # hint:將讀進的文本進行斷詞，並將結果append回out的陣列中\n",
    "        for single_review in corpus[self.key_to_cut]:\n",
    "            ###<your code>###\n",
    "            out.append([word for word in JiebaCutingClass.cut_single_sentence(single_review, use_search=True)])\n",
    "        \n",
    "        corpus['cut'] = out\n",
    "        \n",
    "        return corpus"
   ],
   "cell_type": "code",
   "outputs": [],
   "metadata": {},
   "execution_count": 26
  },
  {
   "cell_type": "markdown",
   "metadata": {},
   "source": [
    "### 使用建構好的斷詞物件對文本進行斷詞"
   ]
  },
  {
   "source": [
    "### 請使用精確模式與預設字典對文本進行斷詞\n",
    "\n",
    "# hint:請先實例化JiebaCutingClass，再進行斷詞\n",
    "jieba_cut = JiebaCutingClass(key_to_cut='review')\n",
    "pd_cut = jieba_cut.cut_corpus(pd_corpus.loc[:50, :], mode='precise') #為了避免處理時間過久, 這裡我們只使用前50個進行斷詞\n",
    "\n",
    "pd_cut.head()"
   ],
   "cell_type": "code",
   "outputs": [
    {
     "output_type": "stream",
     "name": "stderr",
     "text": "Paddle enabled successfully......\n2021-03-22 23:18:57,556-DEBUG: Paddle enabled successfully......\nBuilding prefix dict from the default dictionary ...\n2021-03-22 23:18:57,560-DEBUG: Building prefix dict from the default dictionary ...\nDumping model to file cache C:\\Users\\user\\AppData\\Local\\Temp\\jieba.cache\n2021-03-22 23:18:58,314-DEBUG: Dumping model to file cache C:\\Users\\user\\AppData\\Local\\Temp\\jieba.cache\nLoading model cost 0.824 seconds.\n2021-03-22 23:18:58,386-DEBUG: Loading model cost 0.824 seconds.\nPrefix dict has been built successfully.\n2021-03-22 23:18:58,388-DEBUG: Prefix dict has been built successfully.\nC:\\Users\\user\\AppData\\Roaming\\Python\\Python36\\site-packages\\ipykernel_launcher.py:116: SettingWithCopyWarning: \nA value is trying to be set on a copy of a slice from a DataFrame.\nTry using .loc[row_indexer,col_indexer] = value instead\n\nSee the caveats in the documentation: https://pandas.pydata.org/pandas-docs/stable/user_guide/indexing.html#returning-a-view-versus-a-copy\n"
    },
    {
     "output_type": "execute_result",
     "data": {
      "text/plain": "   label                                             review  \\\n0      1  距离川沙公路较近,但是公交指示不对,如果是\"蔡陆线\"的话,会非常麻烦.建议用别的路线.房间较...   \n1      1                       商务大床房，房间很大，床有2M宽，整体感觉经济实惠不错!   \n2      1         早餐太差，无论去多少人，那边也不加食品的。酒店应该重视一下这个问题了。房间本身很好。   \n3      1  宾馆在小街道上，不大好找，但还好北京热心同胞很多~宾馆设施跟介绍的差不多，房间很小，确实挺小...   \n4      1               CBD中心,周围没什么店铺,说5星有点勉强.不知道为什么卫生间没有电吹风   \n\n                                                 cut  \n0  [距离, 川沙, 公路, 较近, ,, 但是, 公交, 指示, 不, 对, ,, 如果, 是...  \n1  [商务, 大床, 房, ，, 房间, 很大, ，, 床有, 2M, 宽, ，, 整体, 感觉...  \n2  [早餐, 太, 差, ，, 无论, 去, 多少, 人, ，, 那边, 也, 不加, 食品, ...  \n3  [宾馆, 在, 小, 街道, 上, ，, 不大好, 找, ，, 但, 还好, 北京, 热心,...  \n4  [CBD, 中心, ,, 周围, 没什么, 店铺, ,, 说, 5, 星, 有点, 勉强, ...  ",
      "text/html": "<div>\n<style scoped>\n    .dataframe tbody tr th:only-of-type {\n        vertical-align: middle;\n    }\n\n    .dataframe tbody tr th {\n        vertical-align: top;\n    }\n\n    .dataframe thead th {\n        text-align: right;\n    }\n</style>\n<table border=\"1\" class=\"dataframe\">\n  <thead>\n    <tr style=\"text-align: right;\">\n      <th></th>\n      <th>label</th>\n      <th>review</th>\n      <th>cut</th>\n    </tr>\n  </thead>\n  <tbody>\n    <tr>\n      <th>0</th>\n      <td>1</td>\n      <td>距离川沙公路较近,但是公交指示不对,如果是\"蔡陆线\"的话,会非常麻烦.建议用别的路线.房间较...</td>\n      <td>[距离, 川沙, 公路, 较近, ,, 但是, 公交, 指示, 不, 对, ,, 如果, 是...</td>\n    </tr>\n    <tr>\n      <th>1</th>\n      <td>1</td>\n      <td>商务大床房，房间很大，床有2M宽，整体感觉经济实惠不错!</td>\n      <td>[商务, 大床, 房, ，, 房间, 很大, ，, 床有, 2M, 宽, ，, 整体, 感觉...</td>\n    </tr>\n    <tr>\n      <th>2</th>\n      <td>1</td>\n      <td>早餐太差，无论去多少人，那边也不加食品的。酒店应该重视一下这个问题了。房间本身很好。</td>\n      <td>[早餐, 太, 差, ，, 无论, 去, 多少, 人, ，, 那边, 也, 不加, 食品, ...</td>\n    </tr>\n    <tr>\n      <th>3</th>\n      <td>1</td>\n      <td>宾馆在小街道上，不大好找，但还好北京热心同胞很多~宾馆设施跟介绍的差不多，房间很小，确实挺小...</td>\n      <td>[宾馆, 在, 小, 街道, 上, ，, 不大好, 找, ，, 但, 还好, 北京, 热心,...</td>\n    </tr>\n    <tr>\n      <th>4</th>\n      <td>1</td>\n      <td>CBD中心,周围没什么店铺,说5星有点勉强.不知道为什么卫生间没有电吹风</td>\n      <td>[CBD, 中心, ,, 周围, 没什么, 店铺, ,, 说, 5, 星, 有点, 勉强, ...</td>\n    </tr>\n  </tbody>\n</table>\n</div>"
     },
     "metadata": {},
     "execution_count": 27
    }
   ],
   "metadata": {},
   "execution_count": 27
  },
  {
   "cell_type": "markdown",
   "metadata": {},
   "source": [
    "### 載入繁中字典為指定的字詞進行斷詞"
   ]
  },
  {
   "source": [
    "test_string = '我愛cupoy自然語言處理馬拉松課程'\n",
    "jieba_cut = JiebaCutingClass(key_to_cut='', dic='dict.txt.big')\n",
    "\n",
    "\n",
    "out_string = jieba_cut.cut_single_sentence(test_string, use_paddle=True) #paddle 模式\n",
    "print(f'Paddle模式: {[string for string in out_string]}')\n",
    "\n",
    "out_string = jieba_cut.cut_single_sentence(test_string, use_full=True)### <your code>### #全模式\n",
    "print(f'全模式: {[string for string in out_string]}')\n",
    "\n",
    "out_string = jieba_cut.cut_single_sentence(test_string, use_search=True) ###<your code>### #搜尋模式\n",
    "print(f'搜尋模式: {[string for string in out_string]}')\n",
    "\n",
    "out_string =jieba_cut.cut_single_sentence(test_string) ###<your code>### #精確模式\n",
    "print(f'精確模式: {[string for string in out_string]}')"
   ],
   "cell_type": "code",
   "outputs": [
    {
     "output_type": "stream",
     "name": "stderr",
     "text": "Paddle enabled successfully......\n2021-03-22 23:21:48,744-DEBUG: Paddle enabled successfully......\nBuilding prefix dict from d:\\【NLP_100Days】\\Day6\\dict.txt.big ...\n2021-03-22 23:21:48,826-DEBUG: Building prefix dict from d:\\【NLP_100Days】\\Day6\\dict.txt.big ...\nPaddle模式: ['我', '愛', 'cupoy', '自然', '語言', '處理', '馬拉松', '課程']\nDumping model to file cache C:\\Users\\user\\AppData\\Local\\Temp\\jieba.u002d1b806d70c03bf7ff109eb9d1d532.cache\n2021-03-22 23:21:50,026-DEBUG: Dumping model to file cache C:\\Users\\user\\AppData\\Local\\Temp\\jieba.u002d1b806d70c03bf7ff109eb9d1d532.cache\nLoading model cost 1.314 seconds.\n2021-03-22 23:21:50,142-DEBUG: Loading model cost 1.314 seconds.\nPrefix dict has been built successfully.\n2021-03-22 23:21:50,143-DEBUG: Prefix dict has been built successfully.\n全模式: ['我', '愛', 'cupoy', '自然', '自然語言', '語言', '處理', '馬拉', '馬拉松', '課程']\n搜尋模式: ['我', '愛', 'cupoy', '自然', '語言', '自然語言', '處理', '馬拉', '馬拉松', '課程']\n精確模式: ['我', '愛', 'cupoy', '自然語言', '處理', '馬拉松', '課程']\n"
    }
   ],
   "metadata": {},
   "execution_count": 34
  },
  {
   "cell_type": "code",
   "execution_count": null,
   "metadata": {},
   "outputs": [],
   "source": []
  }
 ],
 "metadata": {
  "kernelspec": {
   "display_name": "Python 3.6.8 64-bit",
   "language": "python",
   "name": "python36864bit502c5e0d95fe4ef0bfd711f23270c46e"
  },
  "language_info": {
   "codemirror_mode": {
    "name": "ipython",
    "version": 3
   },
   "file_extension": ".py",
   "mimetype": "text/x-python",
   "name": "python",
   "nbconvert_exporter": "python",
   "pygments_lexer": "ipython3",
   "version": "3.6.8-final"
  }
 },
 "nbformat": 4,
 "nbformat_minor": 2
}